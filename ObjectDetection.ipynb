{
 "cells": [
  {
   "cell_type": "code",
   "id": "initial_id",
   "metadata": {
    "collapsed": true,
    "ExecuteTime": {
     "end_time": "2024-08-23T15:06:48.549649Z",
     "start_time": "2024-08-23T15:06:47.131177Z"
    }
   },
   "source": [
    "import cv2\n",
    "from ultralytics import YOLO"
   ],
   "outputs": [],
   "execution_count": 2
  },
  {
   "metadata": {
    "ExecuteTime": {
     "end_time": "2024-08-23T15:06:49.249240Z",
     "start_time": "2024-08-23T15:06:49.193173Z"
    }
   },
   "cell_type": "code",
   "source": "yolo = YOLO('yolov10n.pt')",
   "id": "83ad9d20a6238cd6",
   "outputs": [],
   "execution_count": 3
  },
  {
   "metadata": {
    "ExecuteTime": {
     "end_time": "2024-08-23T15:06:50.551825Z",
     "start_time": "2024-08-23T15:06:50.344603Z"
    }
   },
   "cell_type": "code",
   "source": "videoCap = cv2.VideoCapture(0)",
   "id": "16c2f6dee2ac3577",
   "outputs": [],
   "execution_count": 4
  },
  {
   "metadata": {
    "ExecuteTime": {
     "end_time": "2024-08-23T15:06:51.376993Z",
     "start_time": "2024-08-23T15:06:51.373129Z"
    }
   },
   "cell_type": "code",
   "source": [
    "def get_color(cls_num):\n",
    "    base_colors = [(255, 0, 0), (0, 255, 0), (0, 0, 255)]\n",
    "    color_index = cls_num % len(base_colors)\n",
    "    increments = [(1, -2, 1), (-2, 1, -1), (1, -1, 2)]\n",
    "    color = [base_colors[color_index][i] + increments[color_index][i] *\n",
    "             (cls_num // len(base_colors)) % 256 for i in range(3)]\n",
    "    return tuple(color)"
   ],
   "id": "e4cb218c96f74d6b",
   "outputs": [],
   "execution_count": 5
  },
  {
   "metadata": {},
   "cell_type": "code",
   "source": [
    "while True:\n",
    "    ret, frame = videoCap.read()\n",
    "    if not ret:\n",
    "        continue\n",
    "    results = yolo.track(frame, stream=True)\n",
    "    for result in results:\n",
    "        classes_names = result.names\n",
    "        for box in result.boxes:\n",
    "            if box.conf[0] > 0.4:\n",
    "                [x1, y1, x2, y2] = box.xyxy[0]\n",
    "                x1, y1, x2, y2 = int(x1), int(y1), int(x2), int(y2)\n",
    "                cls = int(box.cls[0])\n",
    "                class_name = classes_names[cls]\n",
    "                colour = get_color(cls)\n",
    "                cv2.rectangle(frame, (x1, y1), (x2, y2), colour, 2)\n",
    "                cv2.putText(frame, f'{classes_names[int(box.cls[0])]} {box.conf[0]:.2f}', (x1, y1), cv2.FONT_HERSHEY_SIMPLEX, 1, colour, 2)\n",
    "\n",
    "    cv2.imshow('frame', frame)\n",
    "    if cv2.waitKey(1) & 0xFF == ord('q'):\n",
    "        break"
   ],
   "id": "a98e428333286c97",
   "outputs": [],
   "execution_count": null
  },
  {
   "metadata": {},
   "cell_type": "code",
   "source": [
    "videoCap.release()\n",
    "cv2.destroyAllWindows()"
   ],
   "id": "b0ef1d58baea76e7",
   "outputs": [],
   "execution_count": null
  },
  {
   "metadata": {},
   "cell_type": "code",
   "outputs": [],
   "execution_count": null,
   "source": "",
   "id": "867ac1c74dedb6dc"
  }
 ],
 "metadata": {
  "kernelspec": {
   "display_name": "Python 3",
   "language": "python",
   "name": "python3"
  },
  "language_info": {
   "codemirror_mode": {
    "name": "ipython",
    "version": 2
   },
   "file_extension": ".py",
   "mimetype": "text/x-python",
   "name": "python",
   "nbconvert_exporter": "python",
   "pygments_lexer": "ipython2",
   "version": "2.7.6"
  }
 },
 "nbformat": 4,
 "nbformat_minor": 5
}
