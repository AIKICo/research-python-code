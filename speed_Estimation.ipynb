{
 "cells": [
  {
   "cell_type": "code",
   "id": "initial_id",
   "metadata": {
    "collapsed": true
   },
   "source": [
    "import cv2\n",
    "import torch\n",
    "from ultralytics import YOLO, solutions\n",
    "\n",
    "torch.cuda.set_device(0)\n",
    "device = 'cuda' if torch.cuda.is_available() else 'cpu'\n",
    "model = YOLO(\"yolov10n.pt\").to(device)\n",
    "\n",
    "names = model.model.names\n",
    "\n",
    "cap = cv2.VideoCapture(\"video/highway.mp4\")\n",
    "assert cap.isOpened(), \"Error reading video file\"\n",
    "w, h, fps = (int(cap.get(x)) for x in (cv2.CAP_PROP_FRAME_WIDTH, cv2.CAP_PROP_FRAME_HEIGHT, cv2.CAP_PROP_FPS))\n",
    "\n",
    "video_writer = cv2.VideoWriter(\"speed_estimation.avi\", cv2.VideoWriter_fourcc(*\"mp4v\"), fps, (w, h))\n",
    "\n",
    "line_pts = [(0, 360), (1280, 360)]\n",
    "\n",
    "speed_obj = solutions.SpeedEstimator(\n",
    "    reg_pts=line_pts,\n",
    "    names=names,\n",
    "    view_img=True,\n",
    ")\n",
    "\n",
    "while cap.isOpened():\n",
    "    success, im0 = cap.read()\n",
    "    if not success:\n",
    "        print(\"Video frame is empty or video processing has been successfully completed.\")\n",
    "        break\n",
    "\n",
    "    tracks = model.track(im0, persist=True, show=False)\n",
    "\n",
    "    im0 = speed_obj.estimate_speed(im0, tracks)\n",
    "    video_writer.write(im0)\n",
    "\n",
    "cap.release()\n",
    "video_writer.release()\n",
    "cv2.destroyAllWindows()"
   ],
   "outputs": [],
   "execution_count": null
  },
  {
   "metadata": {
    "ExecuteTime": {
     "end_time": "2024-08-23T18:09:55.404958Z",
     "start_time": "2024-08-23T18:09:55.404823Z"
    }
   },
   "cell_type": "code",
   "source": "",
   "id": "125b9434d23c610a",
   "outputs": [],
   "execution_count": null
  },
  {
   "metadata": {},
   "cell_type": "code",
   "source": "",
   "id": "9abe39e6765fa060",
   "outputs": [],
   "execution_count": null
  }
 ],
 "metadata": {
  "kernelspec": {
   "display_name": "Python 3",
   "language": "python",
   "name": "python3"
  },
  "language_info": {
   "codemirror_mode": {
    "name": "ipython",
    "version": 2
   },
   "file_extension": ".py",
   "mimetype": "text/x-python",
   "name": "python",
   "nbconvert_exporter": "python",
   "pygments_lexer": "ipython2",
   "version": "2.7.6"
  }
 },
 "nbformat": 4,
 "nbformat_minor": 5
}
